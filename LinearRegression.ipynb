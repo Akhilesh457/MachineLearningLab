{
 "cells": [
  {
   "cell_type": "code",
   "execution_count": 1,
   "id": "502d1222-31ea-4e16-865d-4bf7b0c4c7e2",
   "metadata": {},
   "outputs": [],
   "source": [
    "Hour = [0,1,2,3,3,5,5,6,7,7,10,5]"
   ]
  },
  {
   "cell_type": "code",
   "execution_count": 15,
   "id": "f2eaca24-8aa0-4e9a-91a4-fafd62dbc07b",
   "metadata": {},
   "outputs": [],
   "source": [
    "Marks = [96,85,82,74,95,68,76,58,65,75,50,84]"
   ]
  },
  {
   "cell_type": "code",
   "execution_count": 16,
   "id": "9851386f-7ea4-49c4-98e2-1d453871a29e",
   "metadata": {},
   "outputs": [],
   "source": [
    "x_mean = sum(Hour) / len(Hour)\n",
    "y_mean = sum(Marks) / len(Marks)"
   ]
  },
  {
   "cell_type": "code",
   "execution_count": 17,
   "id": "e5233ea6-735b-4306-b0f1-6fc254b8ae5b",
   "metadata": {},
   "outputs": [],
   "source": [
    "# Step 2: calculate numerator and denominator\n",
    "numerator = sum((x - x_mean) * (y - y_mean) for x, y in zip(Hour, Marks))\n",
    "denominator = sum((x - x_mean) ** 2 for x in Hour)"
   ]
  },
  {
   "cell_type": "code",
   "execution_count": 18,
   "id": "34cdb6b1-41a9-46c3-970d-6cd249fb9cc4",
   "metadata": {},
   "outputs": [],
   "source": [
    "slope = numerator / denominator"
   ]
  },
  {
   "cell_type": "code",
   "execution_count": 19,
   "id": "d6cf875b-7224-41af-bb6f-6bd1553d4561",
   "metadata": {},
   "outputs": [
    {
     "name": "stdout",
     "output_type": "stream",
     "text": [
      "Slope -4.067415730337078\n"
     ]
    }
   ],
   "source": [
    "print(\"Slope\",slope)"
   ]
  },
  {
   "cell_type": "code",
   "execution_count": 20,
   "id": "6831f91d-8049-43e9-8327-4f780d699f62",
   "metadata": {},
   "outputs": [
    {
     "name": "stdout",
     "output_type": "stream",
     "text": [
      "93.97003745318352\n"
     ]
    }
   ],
   "source": [
    "# Step 3: intercept (c)\n",
    "c = y_mean - slope* x_mean\n",
    "print(c)"
   ]
  },
  {
   "cell_type": "code",
   "execution_count": 26,
   "id": "6765087e-1863-4708-9453-70faea3061e4",
   "metadata": {},
   "outputs": [
    {
     "name": "stdin",
     "output_type": "stream",
     "text": [
      "No of hour Watched 8\n"
     ]
    },
    {
     "name": "stdout",
     "output_type": "stream",
     "text": [
      "61\n"
     ]
    }
   ],
   "source": [
    "#Marks with hours of TV\n",
    "hour_watched = int(input(\"No of hour Watched\"))\n",
    "Marks_after_tv = slope * (hour_watched) + c\n",
    "print(int(Marks_after_tv))"
   ]
  },
  {
   "cell_type": "code",
   "execution_count": null,
   "id": "eceb431c-4dbb-4ecb-9cc2-827077e7af0d",
   "metadata": {},
   "outputs": [],
   "source": []
  },
  {
   "cell_type": "code",
   "execution_count": null,
   "id": "9605d0ee-94e4-489a-b5a9-531a2bb4d6ee",
   "metadata": {},
   "outputs": [],
   "source": []
  }
 ],
 "metadata": {
  "kernelspec": {
   "display_name": "Python 3 (ipykernel)",
   "language": "python",
   "name": "python3"
  },
  "language_info": {
   "codemirror_mode": {
    "name": "ipython",
    "version": 3
   },
   "file_extension": ".py",
   "mimetype": "text/x-python",
   "name": "python",
   "nbconvert_exporter": "python",
   "pygments_lexer": "ipython3",
   "version": "3.12.1"
  }
 },
 "nbformat": 4,
 "nbformat_minor": 5
}
